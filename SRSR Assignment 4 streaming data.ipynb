{
 "cells": [
  {
   "cell_type": "code",
   "execution_count": 1,
   "id": "9c1aa093",
   "metadata": {},
   "outputs": [
    {
     "name": "stdout",
     "output_type": "stream",
     "text": [
      "Requirement already satisfied: folium in /Users/satvikreddysingireddy/anaconda3/lib/python3.11/site-packages (0.16.0)\n",
      "Requirement already satisfied: branca>=0.6.0 in /Users/satvikreddysingireddy/anaconda3/lib/python3.11/site-packages (from folium) (0.7.1)\n",
      "Requirement already satisfied: jinja2>=2.9 in /Users/satvikreddysingireddy/anaconda3/lib/python3.11/site-packages (from folium) (3.1.2)\n",
      "Requirement already satisfied: numpy in /Users/satvikreddysingireddy/anaconda3/lib/python3.11/site-packages (from folium) (1.24.3)\n",
      "Requirement already satisfied: requests in /Users/satvikreddysingireddy/anaconda3/lib/python3.11/site-packages (from folium) (2.31.0)\n",
      "Requirement already satisfied: xyzservices in /Users/satvikreddysingireddy/anaconda3/lib/python3.11/site-packages (from folium) (2022.9.0)\n",
      "Requirement already satisfied: MarkupSafe>=2.0 in /Users/satvikreddysingireddy/anaconda3/lib/python3.11/site-packages (from jinja2>=2.9->folium) (2.1.1)\n",
      "Requirement already satisfied: charset-normalizer<4,>=2 in /Users/satvikreddysingireddy/anaconda3/lib/python3.11/site-packages (from requests->folium) (2.0.4)\n",
      "Requirement already satisfied: idna<4,>=2.5 in /Users/satvikreddysingireddy/anaconda3/lib/python3.11/site-packages (from requests->folium) (3.4)\n",
      "Requirement already satisfied: urllib3<3,>=1.21.1 in /Users/satvikreddysingireddy/anaconda3/lib/python3.11/site-packages (from requests->folium) (1.26.16)\n",
      "Requirement already satisfied: certifi>=2017.4.17 in /Users/satvikreddysingireddy/anaconda3/lib/python3.11/site-packages (from requests->folium) (2023.7.22)\n",
      "Requirement already satisfied: requests in /Users/satvikreddysingireddy/anaconda3/lib/python3.11/site-packages (2.31.0)\n",
      "Requirement already satisfied: charset-normalizer<4,>=2 in /Users/satvikreddysingireddy/anaconda3/lib/python3.11/site-packages (from requests) (2.0.4)\n",
      "Requirement already satisfied: idna<4,>=2.5 in /Users/satvikreddysingireddy/anaconda3/lib/python3.11/site-packages (from requests) (3.4)\n",
      "Requirement already satisfied: urllib3<3,>=1.21.1 in /Users/satvikreddysingireddy/anaconda3/lib/python3.11/site-packages (from requests) (1.26.16)\n",
      "Requirement already satisfied: certifi>=2017.4.17 in /Users/satvikreddysingireddy/anaconda3/lib/python3.11/site-packages (from requests) (2023.7.22)\n"
     ]
    }
   ],
   "source": [
    "#importing the libraries\n",
    "!pip install folium\n",
    "!pip install requests"
   ]
  },
  {
   "cell_type": "code",
   "execution_count": null,
   "id": "8524dbae",
   "metadata": {},
   "outputs": [
    {
     "data": {
      "text/html": [
       "<div style=\"width:100%;\"><div style=\"position:relative;width:100%;height:0;padding-bottom:60%;\"><span style=\"color:#565656\">Make this Notebook Trusted to load map: File -> Trust Notebook</span><iframe srcdoc=\"&lt;!DOCTYPE html&gt;\n",
       "&lt;html&gt;\n",
       "&lt;head&gt;\n",
       "    \n",
       "    &lt;meta http-equiv=&quot;content-type&quot; content=&quot;text/html; charset=UTF-8&quot; /&gt;\n",
       "    \n",
       "        &lt;script&gt;\n",
       "            L_NO_TOUCH = false;\n",
       "            L_DISABLE_3D = false;\n",
       "        &lt;/script&gt;\n",
       "    \n",
       "    &lt;style&gt;html, body {width: 100%;height: 100%;margin: 0;padding: 0;}&lt;/style&gt;\n",
       "    &lt;style&gt;#map {position:absolute;top:0;bottom:0;right:0;left:0;}&lt;/style&gt;\n",
       "    &lt;script src=&quot;https://cdn.jsdelivr.net/npm/leaflet@1.9.3/dist/leaflet.js&quot;&gt;&lt;/script&gt;\n",
       "    &lt;script src=&quot;https://code.jquery.com/jquery-3.7.1.min.js&quot;&gt;&lt;/script&gt;\n",
       "    &lt;script src=&quot;https://cdn.jsdelivr.net/npm/bootstrap@5.2.2/dist/js/bootstrap.bundle.min.js&quot;&gt;&lt;/script&gt;\n",
       "    &lt;script src=&quot;https://cdnjs.cloudflare.com/ajax/libs/Leaflet.awesome-markers/2.0.2/leaflet.awesome-markers.js&quot;&gt;&lt;/script&gt;\n",
       "    &lt;link rel=&quot;stylesheet&quot; href=&quot;https://cdn.jsdelivr.net/npm/leaflet@1.9.3/dist/leaflet.css&quot;/&gt;\n",
       "    &lt;link rel=&quot;stylesheet&quot; href=&quot;https://cdn.jsdelivr.net/npm/bootstrap@5.2.2/dist/css/bootstrap.min.css&quot;/&gt;\n",
       "    &lt;link rel=&quot;stylesheet&quot; href=&quot;https://netdna.bootstrapcdn.com/bootstrap/3.0.0/css/bootstrap.min.css&quot;/&gt;\n",
       "    &lt;link rel=&quot;stylesheet&quot; href=&quot;https://cdn.jsdelivr.net/npm/@fortawesome/fontawesome-free@6.2.0/css/all.min.css&quot;/&gt;\n",
       "    &lt;link rel=&quot;stylesheet&quot; href=&quot;https://cdnjs.cloudflare.com/ajax/libs/Leaflet.awesome-markers/2.0.2/leaflet.awesome-markers.css&quot;/&gt;\n",
       "    &lt;link rel=&quot;stylesheet&quot; href=&quot;https://cdn.jsdelivr.net/gh/python-visualization/folium/folium/templates/leaflet.awesome.rotate.min.css&quot;/&gt;\n",
       "    \n",
       "            &lt;meta name=&quot;viewport&quot; content=&quot;width=device-width,\n",
       "                initial-scale=1.0, maximum-scale=1.0, user-scalable=no&quot; /&gt;\n",
       "            &lt;style&gt;\n",
       "                #map_e9d636dd93f53c5bf852b1beae324462 {\n",
       "                    position: relative;\n",
       "                    width: 100.0%;\n",
       "                    height: 100.0%;\n",
       "                    left: 0.0%;\n",
       "                    top: 0.0%;\n",
       "                }\n",
       "                .leaflet-container { font-size: 1rem; }\n",
       "            &lt;/style&gt;\n",
       "        \n",
       "&lt;/head&gt;\n",
       "&lt;body&gt;\n",
       "    \n",
       "    \n",
       "            &lt;div class=&quot;folium-map&quot; id=&quot;map_e9d636dd93f53c5bf852b1beae324462&quot; &gt;&lt;/div&gt;\n",
       "        \n",
       "&lt;/body&gt;\n",
       "&lt;script&gt;\n",
       "    \n",
       "    \n",
       "            var map_e9d636dd93f53c5bf852b1beae324462 = L.map(\n",
       "                &quot;map_e9d636dd93f53c5bf852b1beae324462&quot;,\n",
       "                {\n",
       "                    center: [-22.0277, -98.764],\n",
       "                    crs: L.CRS.EPSG3857,\n",
       "                    zoom: 1,\n",
       "                    zoomControl: true,\n",
       "                    preferCanvas: false,\n",
       "                }\n",
       "            );\n",
       "\n",
       "            \n",
       "\n",
       "        \n",
       "    \n",
       "            var tile_layer_5db074b2f8f704534e833e7b77f7f588 = L.tileLayer(\n",
       "                &quot;https://tile.openstreetmap.org/{z}/{x}/{y}.png&quot;,\n",
       "                {&quot;attribution&quot;: &quot;\\u0026copy; \\u003ca href=\\&quot;https://www.openstreetmap.org/copyright\\&quot;\\u003eOpenStreetMap\\u003c/a\\u003e contributors&quot;, &quot;detectRetina&quot;: false, &quot;maxNativeZoom&quot;: 19, &quot;maxZoom&quot;: 19, &quot;minZoom&quot;: 0, &quot;noWrap&quot;: false, &quot;opacity&quot;: 1, &quot;subdomains&quot;: &quot;abc&quot;, &quot;tms&quot;: false}\n",
       "            );\n",
       "        \n",
       "    \n",
       "            tile_layer_5db074b2f8f704534e833e7b77f7f588.addTo(map_e9d636dd93f53c5bf852b1beae324462);\n",
       "        \n",
       "    \n",
       "            var poly_line_1f441821137fd20e41eec5ba6471fda9 = L.polyline(\n",
       "                [[48.9342, 136.7163], [48.9448, 136.7609], [49.0602, 137.2526], [49.163, 137.7017], [49.2739, 138.198], [49.3727, 138.6512], [49.4792, 139.152], [49.5739, 139.6092], [49.6757, 140.1142], [49.7752, 140.6213], [49.8635, 141.0842], [49.9583, 141.5954], [50.0423, 142.062], [50.1324, 142.5772], [50.2121, 143.0474], [50.2974, 143.5663], [50.3728, 144.0397], [50.446, 144.5148], [50.5241, 145.0389], [50.5929, 145.517], [50.6595, 145.9967], [50.7303, 146.5258], [50.7924, 147.0083], [50.8582, 147.5404], [50.9157, 148.0256], [50.9711, 148.5122], [51.0294, 149.0486], [51.0801, 149.5374], [51.1285, 150.0273], [51.1792, 150.5674], [51.223, 151.0593], [51.2685, 151.6016], [51.3076, 152.0957], [51.3479, 152.6401], [51.3821, 153.1358], [51.4141, 153.6322], [51.4467, 154.1792], [51.4739, 154.6771], [51.5011, 155.2255], [48.8734, -175.8384], [48.7654, -175.3949], [48.6444, -174.9095], [48.5325, -174.4703], [48.4073, -173.9896], [48.2916, -173.5547], [48.1622, -173.0787], [48.0427, -172.6481], [47.9214, -172.2197], [47.7984, -171.7934], [47.6611, -171.3269], [47.5344, -170.905], [47.3932, -170.4436], [47.2631, -170.0263], [47.1312, -169.611], [46.9977, -169.1981], [46.849, -168.7465], [46.7121, -168.338], [46.5736, -167.9318], [46.4195, -167.4876], [46.2777, -167.0861], [46.12, -166.647], [45.975, -166.2501], [45.8285, -165.8554], [45.6804, -165.4629], [45.5159, -165.0336], [45.3647, -164.6458], [45.1969, -164.2217], [42.7596, -158.7344], [42.5684, -158.348], [42.3933, -157.9989], [42.2171, -157.6519], [42.0219, -157.2727], [41.8431, -156.93], [41.6453, -156.5554], [41.4642, -156.2169], [41.282, -155.8805], [41.0802, -155.5126], [40.8956, -155.1802], [40.7101, -154.85], [40.5047, -154.489], [40.317, -154.1629], [40.1282, -153.8387], [39.9193, -153.4842], [39.7285, -153.1641], [39.5365, -152.8458], [39.3243, -152.4979], [39.1304, -152.1836], [38.9354, -151.871], [38.7396, -151.5604], [38.5231, -151.2209], [38.3055, -150.8834], [38.1067, -150.5785], [37.907, -150.2754], [37.6864, -149.9441], [37.4848, -149.6446], [37.2825, -149.347], [37.0589, -149.0215], [36.8547, -148.7274], [36.6497, -148.435], [36.4232, -148.1151], [36.2152, -147.8243], [36.0076, -147.537], [35.7993, -147.2513], [35.5693, -146.9389], [35.3593, -146.6565], [35.1276, -146.3479], [34.9161, -146.0688], [34.6827, -145.7637], [34.4697, -145.488], [34.256, -145.2138], [34.0201, -144.9138], [33.8049, -144.6427], [33.5674, -144.3461], [33.3508, -144.0781], [33.1334, -143.8113], [32.9155, -143.5462], [32.6751, -143.2562], [32.4558, -142.994], [32.2359, -142.7332], [31.9933, -142.4478], [31.7721, -142.1899], [31.5502, -141.933], [31.3055, -141.6522], [31.0825, -141.3984], [30.8365, -141.1206], [30.6123, -140.8694], [30.3875, -140.6195], [30.1395, -140.346], [29.9135, -140.0987], [29.6871, -139.8526], [29.4373, -139.5833], [29.2097, -139.3398], [28.9816, -139.0974], [28.7301, -138.8321], [28.5009, -138.5922], [28.2713, -138.3534], [28.0181, -138.092], [27.7874, -137.8555], [27.5562, -137.6201], [27.3246, -137.3858], [27.0692, -137.1293], [26.8366, -136.8972], [26.6036, -136.6662], [26.3468, -136.4133], [26.1129, -136.1845], [25.8785, -135.9566], [25.6202, -135.707], [25.3849, -135.4812], [25.1492, -135.2564], [24.8896, -135.0102], [24.6531, -134.7873], [24.4163, -134.5654], [24.1553, -134.3224], [23.9175, -134.1023], [23.6795, -133.8832], [23.441, -133.6649], [23.1784, -133.4258], [22.9391, -133.2093], [22.6756, -132.9721], [22.4356, -132.7574], [22.1713, -132.5222], [21.9307, -132.3092], [21.6898, -132.097], [21.4244, -131.8645], [21.1827, -131.6539], [20.9408, -131.4441], [20.6985, -131.235], [20.4317, -131.0059], [20.1889, -130.7983], [19.9457, -130.5916], [19.6779, -130.3648], [19.4341, -130.1595], [19.1902, -129.9549], [18.9214, -129.7305], [18.6768, -129.5272], [18.4319, -129.3246], [18.1623, -129.1025], [17.9169, -128.9012], [17.6713, -128.7006], [17.4008, -128.4805], [17.1547, -128.2812], [16.9082, -128.0823], [16.6616, -127.8841], [16.39, -127.6667], [16.143, -127.4697], [15.8955, -127.273], [15.6232, -127.0575], [15.3755, -126.8621], [15.1276, -126.6673], [14.8546, -126.4535], [14.6062, -126.2597], [14.3576, -126.0664], [14.0839, -125.8543], [13.8349, -125.6619], [13.5857, -125.47], [13.3115, -125.2595], [13.062, -125.0686], [12.7873, -124.8591], [12.5125, -124.6501], [12.2625, -124.4605], [11.9872, -124.2524], [11.7368, -124.0636], [11.4862, -123.8752], [11.2106, -123.6685], [10.9597, -123.4809], [10.6837, -123.275], [10.4075, -123.0695], [10.1311, -122.8644], [9.8797, -122.6783], [9.6282, -122.4925], [9.3514, -122.2884], [9.0996, -122.1033], [8.8476, -121.9183], [8.5705, -121.7154], [8.3184, -121.5311], [8.0661, -121.347], [7.7883, -121.1448], [7.5358, -120.9612], [7.2833, -120.778], [7.0055, -120.5767], [6.7275, -120.3757], [6.4748, -120.1932], [6.1967, -119.9927], [5.9438, -119.8106], [5.6908, -119.6287], [5.4124, -119.4288], [5.1592, -119.2473], [4.9059, -119.0658], [4.6273, -118.8665], [4.374, -118.6855], [4.1207, -118.5046], [3.8419, -118.3057], [3.5631, -118.1071], [3.3095, -117.9265], [3.0559, -117.7461], [2.8024, -117.5658], [2.5235, -117.3676], [2.2698, -117.1874], [2.0161, -117.0074], [1.737, -116.8094], [1.4833, -116.6294], [1.2294, -116.4495], [0.9504, -116.2517], [0.6966, -116.0719], [0.4429, -115.8921], [0.1638, -115.6944], [-0.0899, -115.5147], [-0.3436, -115.3349], [-0.6228, -115.1372], [-0.8765, -114.9574], [-1.1555, -114.7596], [-1.4093, -114.5798], [-1.6883, -114.3819], [-1.9419, -114.202], [-2.2208, -114.004], [-2.4744, -113.824], [-2.7532, -113.6259], [-3.0067, -113.4457], [-3.2602, -113.2654], [-3.5389, -113.0669], [-3.7923, -112.8864], [-4.0709, -112.6877], [-4.3242, -112.5069], [-4.5774, -112.326], [-4.8559, -112.1267], [-5.109, -111.9455], [-5.3873, -111.746], [-5.6402, -111.5644], [-5.893, -111.3827], [-6.171, -111.1827], [-6.4237, -111.0005], [-6.6763, -110.8182], [-6.9541, -110.6174], [-7.2065, -110.4346], [-7.4589, -110.2516], [-7.7363, -110.0501], [-7.9884, -109.8666], [-8.2404, -109.6828], [-8.5176, -109.4804], [-8.7693, -109.2961], [-9.021, -109.1115], [-9.2977, -108.9082], [-9.5491, -108.723], [-9.8003, -108.5376], [-10.0515, -108.3518], [-10.3276, -108.147], [-10.5785, -107.9605], [-10.8292, -107.7738], [-11.1049, -107.5679], [-11.3553, -107.3803], [-11.6056, -107.1924], [-11.8808, -106.9853], [-12.1307, -106.7966], [-12.3805, -106.6075], [-12.6551, -106.399], [-12.9048, -106.2089], [-13.1541, -106.0185], [-13.4282, -105.8086], [-13.6771, -105.6173], [-13.9506, -105.4064], [-14.1992, -105.2141], [-14.4476, -105.0214], [-14.7204, -104.8089], [-14.9683, -104.6152], [-15.2161, -104.4209], [-15.4883, -104.2068], [-15.7356, -104.0115], [-15.9826, -103.8158], [-16.2541, -103.5997], [-16.5008, -103.4028], [-16.7471, -103.2053], [-17.0178, -102.9874], [-17.2636, -102.7888], [-17.5092, -102.5895], [-17.7792, -102.3696], [-18.0243, -102.169], [-18.2691, -101.9679], [-18.5381, -101.746], [-18.7825, -101.5434], [-19.0266, -101.3402], [-19.2947, -101.116], [-19.5381, -100.9116], [-19.7812, -100.7064], [-20.0482, -100.48], [-20.2907, -100.2734], [-20.5329, -100.0661], [-20.7989, -99.8372], [-21.0407, -99.6282], [-21.282, -99.4186], [-21.5469, -99.1872], [-21.7875, -98.976], [-22.0277, -98.764]],\n",
       "                {&quot;bubblingMouseEvents&quot;: true, &quot;color&quot;: &quot;red&quot;, &quot;dashArray&quot;: null, &quot;dashOffset&quot;: null, &quot;fill&quot;: false, &quot;fillColor&quot;: &quot;red&quot;, &quot;fillOpacity&quot;: 0.2, &quot;fillRule&quot;: &quot;evenodd&quot;, &quot;lineCap&quot;: &quot;round&quot;, &quot;lineJoin&quot;: &quot;round&quot;, &quot;noClip&quot;: false, &quot;opacity&quot;: 1.0, &quot;smoothFactor&quot;: 1.0, &quot;stroke&quot;: true, &quot;weight&quot;: 5}\n",
       "            ).addTo(map_e9d636dd93f53c5bf852b1beae324462);\n",
       "        \n",
       "&lt;/script&gt;\n",
       "&lt;/html&gt;\" style=\"position:absolute;width:100%;height:100%;left:0;top:0;border:none !important;\" allowfullscreen webkitallowfullscreen mozallowfullscreen></iframe></div></div>"
      ],
      "text/plain": [
       "<folium.folium.Map at 0x10875ae90>"
      ]
     },
     "metadata": {},
     "output_type": "display_data"
    }
   ],
   "source": [
    "import time\n",
    "import requests\n",
    "import folium\n",
    "from IPython.display import display, clear_output\n",
    "\n",
    "# Functioning to fetch the current position of the International Space Station (ISS)\n",
    "def get_the_iss_position():\n",
    "    response = requests.get(\"http://api.open-notify.org/iss-now.json\")\n",
    "    position = response.json()['iss_position']\n",
    "    return float(position['latitude']), float(position['longitude'])\n",
    "\n",
    "# Getting the initial position of the ISS\n",
    "initial_posit = get_the_iss_position()\n",
    "\n",
    "# Creating a path with the initial ISS position\n",
    "path = folium.PolyLine([initial_posit], color=\"red\", weight=5)\n",
    "\n",
    "# Fetching and storing ISS positions for 60 minutes\n",
    "for _ in range(720):  # (60 minutes * 60 seconds/minute) / 5 seconds\n",
    "    position = get_the_iss_position()\n",
    "    path.locations.append(position)\n",
    "    \n",
    "    # Creating and displaying a new map centered at the current ISS position\n",
    "    map = folium.Map(location=position, zoom_start=1)\n",
    "    path.add_to(map)\n",
    "    clear_output(wait=True)\n",
    "    display(map)\n",
    "    time.sleep(5)\n",
    "\n",
    "    \n"
   ]
  },
  {
   "cell_type": "code",
   "execution_count": null,
   "id": "0de421be",
   "metadata": {},
   "outputs": [],
   "source": []
  },
  {
   "cell_type": "code",
   "execution_count": null,
   "id": "1d9e43b7",
   "metadata": {},
   "outputs": [],
   "source": []
  }
 ],
 "metadata": {
  "kernelspec": {
   "display_name": "Python 3 (ipykernel)",
   "language": "python",
   "name": "python3"
  },
  "language_info": {
   "codemirror_mode": {
    "name": "ipython",
    "version": 3
   },
   "file_extension": ".py",
   "mimetype": "text/x-python",
   "name": "python",
   "nbconvert_exporter": "python",
   "pygments_lexer": "ipython3",
   "version": "3.11.4"
  }
 },
 "nbformat": 4,
 "nbformat_minor": 5
}
